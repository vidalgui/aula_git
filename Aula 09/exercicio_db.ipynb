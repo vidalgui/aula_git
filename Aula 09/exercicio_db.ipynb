{
 "cells": [
  {
   "cell_type": "code",
   "execution_count": 1,
   "metadata": {},
   "outputs": [],
   "source": [
    "import sqlite3\n",
    "import pandas as pd"
   ]
  },
  {
   "cell_type": "code",
   "execution_count": 3,
   "metadata": {},
   "outputs": [],
   "source": [
    "def tabelas_bd():\n",
    "    conn = sqlite3.connect(\"coderhouse.db\")\n",
    "    query = \"SELECT name FROM sqlite_master WHERE type='table'\"\n",
    "    return pd.read_sql(query, conn)\n",
    "    conn.close()"
   ]
  },
  {
   "cell_type": "code",
   "execution_count": 5,
   "metadata": {},
   "outputs": [],
   "source": [
    "def salva_bd(df, nome_tabela):\n",
    "    conn = sqlite3.connect(\"coderhouse.db\")\n",
    "    return df.to_sql(nome_tabela, conn, if_exists='replace', index=False)\n",
    "    conn.close()"
   ]
  },
  {
   "cell_type": "code",
   "execution_count": 14,
   "metadata": {},
   "outputs": [],
   "source": [
    "def carrega_bd(nome_tabela):\n",
    "    conn = sqlite3.connect('coderhouse.db')\n",
    "    query = f\"SELECT * FROM {nome_tabela}\"\n",
    "    return pd.read_sql(query, conn)\n",
    "    conn.close()"
   ]
  }
 ],
 "metadata": {
  "kernelspec": {
   "display_name": "Python 3",
   "language": "python",
   "name": "python3"
  },
  "language_info": {
   "codemirror_mode": {
    "name": "ipython",
    "version": 3
   },
   "file_extension": ".py",
   "mimetype": "text/x-python",
   "name": "python",
   "nbconvert_exporter": "python",
   "pygments_lexer": "ipython3",
   "version": "3.11.7"
  }
 },
 "nbformat": 4,
 "nbformat_minor": 2
}
