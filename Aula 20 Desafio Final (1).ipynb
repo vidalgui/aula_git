{
 "cells": [
  {
   "attachments": {},
   "cell_type": "markdown",
   "metadata": {},
   "source": [
    "# Projeto Final Exemplo"
   ]
  },
  {
   "cell_type": "code",
   "execution_count": 1,
   "metadata": {},
   "outputs": [],
   "source": [
    "import pandas as pd\n",
    "import numpy as np\n",
    "import sqlite3\n",
    "from datetime import datetime\n",
    "from plyer import notification \n",
    "import requests\n",
    "from tqdm import tqdm"
   ]
  },
  {
   "attachments": {},
   "cell_type": "markdown",
   "metadata": {},
   "source": [
    "### Alerta"
   ]
  },
  {
   "cell_type": "code",
   "execution_count": 2,
   "metadata": {},
   "outputs": [],
   "source": [
    "def alerta(nivel, base, etapa, erro=\"\"):\n",
    "    '''\n",
    "        Alerta de falha de carregamento de base de dados\n",
    "    '''\n",
    "    now = str(datetime.now())\n",
    "\n",
    "    msg = f\"Falha no carregamento da base {base} na etapa {etapa}.\\n{now}\\n{erro}\"\n",
    "\n",
    "\n",
    "    if nivel == 1:\n",
    "        title = 'ATENÇÃO: Alerta Baixo'\n",
    "    elif nivel == 2:\n",
    "        title = 'ATENÇÃO: Alerta Médio'\n",
    "    elif nivel  == 3:\n",
    "        title = 'ATENÇÃO: Alerta Alto'\n",
    "    else:\n",
    "        print(\"Nivel\",nivel,\"não disponível!\")\n",
    "\n",
    "    notification.notify(\n",
    "            title=title,\n",
    "            message=msg,\n",
    "            app_name='alerta',\n",
    "            timeout=10\n",
    "        )\n"
   ]
  },
  {
   "attachments": {},
   "cell_type": "markdown",
   "metadata": {},
   "source": [
    "### Banco de Dados"
   ]
  },
  {
   "cell_type": "code",
   "execution_count": 3,
   "metadata": {},
   "outputs": [],
   "source": [
    "def tabelas_bd():\n",
    "    '''\n",
    "        Retorna um dataframe com as tabelas do banco de dados.\n",
    "    '''\n",
    "    conn = sqlite3.connect('coderhouse.db')\n",
    "\n",
    "    # Executar uma consulta que retorna as informações do esquema do banco de dados\n",
    "    query = \"SELECT name FROM sqlite_master WHERE type='table'\"\n",
    "    schema = pd.read_sql_query(query, conn)\n",
    "\n",
    "    conn.close()\n",
    "\n",
    "    return schema\n",
    "def salva_bd(df, nome_tabela):\n",
    "    '''\n",
    "        Salva dataframe df na tabela nome_tabela.\n",
    "    '''\n",
    "    conn = sqlite3.connect('coderhouse.db')\n",
    "\n",
    "    # Escrever o DataFrame na tabela 'nome_tabela'\n",
    "    df.to_sql(nome_tabela, conn, if_exists='replace', index=False)\n",
    "\n",
    "    conn.close()\n",
    "\n",
    "    return True\n",
    "def carrega_bd(nome_tabela):\n",
    "    '''\n",
    "        Carrega tabela nome_tabela num dataframe. \n",
    "    '''\n",
    "    conn = sqlite3.connect('coderhouse.db')\n",
    "\n",
    "    # Executar uma consulta SELECT na tabela 'produtos' e converter em um DataFrame\n",
    "    query = f\"SELECT * FROM {nome_tabela}\"\n",
    "    df = pd.read_sql(query, conn)\n",
    "\n",
    "    conn.close()\n",
    "\n",
    "    return df"
   ]
  },
  {
   "attachments": {},
   "cell_type": "markdown",
   "metadata": {},
   "source": [
    "### 1 Extração"
   ]
  },
  {
   "cell_type": "code",
   "execution_count": 4,
   "metadata": {},
   "outputs": [],
   "source": [
    "def get_json_api(url):\n",
    "    '''\n",
    "        Request GET url e retorna json de saida\n",
    "    '''\n",
    "\n",
    "    response = requests.get(url)\n",
    "\n",
    "    if response.status_code == 200:\n",
    "        data_json = response.json()\n",
    "        return data_json\n",
    "    \n",
    "    # Erro\n",
    "    raise Exception(f\"erro request,  {response.status_code} - {url}\\n{response.text}\")\n",
    "    \n"
   ]
  },
  {
   "attachments": {},
   "cell_type": "markdown",
   "metadata": {},
   "source": [
    "##### 1.1 Base pokemons_url"
   ]
  },
  {
   "cell_type": "code",
   "execution_count": 5,
   "metadata": {},
   "outputs": [],
   "source": [
    "def get_base_pokemons_url():\n",
    "    '''\n",
    "        request completo iterativo da tabela pokemons_url\n",
    "        retorna dataframe da tabela \n",
    "    '''\n",
    "    next_url = \"https://pokeapi.co/api/v2/pokemon\"\n",
    "    df_pokemons_full = pd.DataFrame()\n",
    "    while next_url is not None:\n",
    "        print(next_url, end='\\r')\n",
    "        \n",
    "        # GET \n",
    "        json_data = get_json_api(next_url)\n",
    "\n",
    "        #para dataframe\n",
    "        df_pokemons = pd.DataFrame(json_data['results'])\n",
    "\n",
    "        #append/concat  \n",
    "        df_pokemons_full = pd.concat([df_pokemons_full,df_pokemons],ignore_index=True)\n",
    "\n",
    "        #next page\n",
    "        next_url = json_data['next']\n",
    "    \n",
    "    return df_pokemons_full"
   ]
  },
  {
   "attachments": {},
   "cell_type": "markdown",
   "metadata": {},
   "source": [
    "##### 1.2 Base habilidades_url"
   ]
  },
  {
   "cell_type": "code",
   "execution_count": 6,
   "metadata": {},
   "outputs": [],
   "source": [
    "def get_base_habilidades_url():\n",
    "    '''\n",
    "        request completo iterativo da tabela habilidades_url\n",
    "        retorna dataframe da tabela \n",
    "    '''\n",
    "    next_url = \"https://pokeapi.co/api/v2/ability\"\n",
    "    df_habilidades_full = pd.DataFrame()\n",
    "    while next_url is not None:\n",
    "        print(next_url, end='\\r')\n",
    "        \n",
    "        # GET \n",
    "        json_data = get_json_api(next_url)\n",
    "\n",
    "        #para dataframe\n",
    "        df_habilidade = pd.DataFrame(json_data['results'])\n",
    "\n",
    "        #append/concat  \n",
    "        df_habilidades_full = pd.concat([df_habilidades_full,df_habilidade],ignore_index=True)\n",
    "\n",
    "        #next page\n",
    "        next_url = json_data['next']\n",
    "    \n",
    "    return df_habilidades_full"
   ]
  },
  {
   "attachments": {},
   "cell_type": "markdown",
   "metadata": {},
   "source": [
    "##### 1.3 Base pokemons"
   ]
  },
  {
   "cell_type": "code",
   "execution_count": 7,
   "metadata": {},
   "outputs": [],
   "source": [
    "def get_base_pokemons():\n",
    "\n",
    "    df_pokemons_url = carrega_bd(\"pokemons_url\")\n",
    "\n",
    "    df_pokemons_full = pd.DataFrame()\n",
    "\n",
    "    for url in tqdm(df_pokemons_url['url'].values):\n",
    "\n",
    "        #GET\n",
    "        json_data = get_json_api(url)\n",
    "\n",
    "        #para dataframe e append\n",
    "        id              = json_data['id']\n",
    "        name            = json_data['name']\n",
    "        abilities       = json_data['abilities']\n",
    "        height          = json_data['height']\n",
    "        weight          = json_data['weight']\n",
    "        base_experience = json_data['base_experience']\n",
    "\n",
    "        sr_pokemon = pd.Series({\n",
    "            \"url\": url,\n",
    "            \"pokemon_id\": id,\n",
    "            \"name\": name,\n",
    "            \"height\": height,\n",
    "            \"weight\": weight,\n",
    "            \"base_experience\": base_experience,\n",
    "            \"habilidades\": str(abilities)\n",
    "        })\n",
    "\n",
    "        #append/concat \n",
    "        df_pokemons_full = pd.concat([df_pokemons_full,sr_pokemon.to_frame().T],ignore_index=True)\n",
    "        \n",
    "    return df_pokemons_full\n",
    "    "
   ]
  },
  {
   "attachments": {},
   "cell_type": "markdown",
   "metadata": {},
   "source": [
    "##### 1.4 Base habilidades"
   ]
  },
  {
   "cell_type": "code",
   "execution_count": 8,
   "metadata": {},
   "outputs": [],
   "source": [
    "def get_base_habilidades():\n",
    "\n",
    "    df_habilidades_url = carrega_bd(\"habilidades_url\")\n",
    "\n",
    "    df_habilidades_full = pd.DataFrame()\n",
    "\n",
    "    for url in tqdm(df_habilidades_url['url'].values):\n",
    "\n",
    "        #GET\n",
    "        json_data = get_json_api(url)\n",
    "\n",
    "        #para dataframe e append\n",
    "        id             = json_data['id']\n",
    "        name           = json_data['name']\n",
    "        generation     = json_data['generation']['name']\n",
    "        is_main_series = json_data['is_main_series']\n",
    "        effect         = \"\\n---\\n\".join([effect['effect'] for effect in json_data['effect_entries']])\n",
    "\n",
    "        sr_habilidade = pd.Series({\n",
    "            \"url\": url,\n",
    "            \"ability_id\":id,\n",
    "            \"name\": name,\n",
    "            \"generation\": generation,\n",
    "            \"is_main_series\": is_main_series,\n",
    "            \"effect\": effect\n",
    "        })\n",
    "\n",
    "        #append/concat \n",
    "        df_habilidades_full = pd.concat([df_habilidades_full,sr_habilidade.to_frame().T],ignore_index=True)\n",
    "\n",
    "    return df_habilidades_full\n",
    "    "
   ]
  },
  {
   "attachments": {},
   "cell_type": "markdown",
   "metadata": {},
   "source": [
    "##### 1.5 Etapa de extracao completa"
   ]
  },
  {
   "cell_type": "code",
   "execution_count": 9,
   "metadata": {},
   "outputs": [],
   "source": [
    "def etapa_extracao():\n",
    "    \n",
    "    #################################################\n",
    "    print(\"  > Base pokemons_url:\\n\")\n",
    "    try:\n",
    "        df_pokemons_url = get_base_pokemons_url()\n",
    "        salva_bd(df_pokemons_url,\"pokemons_url\")\n",
    "    except Exception as e:\n",
    "        alerta(nivel = 3, \n",
    "               base = \"pokemons_url\", \n",
    "               etapa = \"EXTRACAO\", \n",
    "               erro=e)\n",
    "    \n",
    "    #################################################\n",
    "    print(\"  > Base habilidades_url:\\n\")\n",
    "    try:\n",
    "        df_habilidades_url = get_base_habilidades_url()\n",
    "        salva_bd(df_habilidades_url,\"habilidades_url\")\n",
    "    except Exception as e:\n",
    "        alerta(nivel = 3, \n",
    "               base = \"habilidades_url\", \n",
    "               etapa = \"EXTRACAO\", \n",
    "               erro=e)\n",
    "        \n",
    "    #################################################\n",
    "    print(\"  > Base pokemons:\\n\")\n",
    "    try:\n",
    "        df_pokemons_full = get_base_pokemons()\n",
    "        salva_bd(df_pokemons_full,\"pokemons\")\n",
    "    except Exception as e:\n",
    "        alerta(nivel = 3, \n",
    "               base = \"pokemons\", \n",
    "               etapa = \"EXTRACAO\", \n",
    "               erro=e)\n",
    "\n",
    "    \n",
    "    #################################################\n",
    "    print(\"  > Base habilidades:\\n\")\n",
    "    try:\n",
    "        df_habilidades_full = get_base_habilidades()\n",
    "        salva_bd(df_habilidades_full,\"habilidades\")\n",
    "    except Exception as e:\n",
    "        alerta(nivel = 3, \n",
    "               base = \"habilidades\", \n",
    "               etapa = \"EXTRACAO\", \n",
    "               erro=e)\n",
    "        "
   ]
  },
  {
   "attachments": {},
   "cell_type": "markdown",
   "metadata": {},
   "source": [
    "### 2 Transformação"
   ]
  },
  {
   "cell_type": "code",
   "execution_count": 10,
   "metadata": {},
   "outputs": [],
   "source": [
    "def etapa_transformacao():\n",
    "\n",
    "    try:\n",
    "        #base de pokemons\n",
    "        df_pokemons = carrega_bd(\"pokemons\")\n",
    "        #abrindo as linhas por habilidade\n",
    "        df_pokemons['habilidades'] = df_pokemons['habilidades'].apply(eval)\n",
    "        df_pokemons_open = df_pokemons.explode('habilidades')\n",
    "        #buscando id das habilidades\n",
    "        df_pokemons_open['ability_url'] = df_pokemons_open['habilidades'].apply(lambda row: row['ability']['url'])\n",
    "        df_pokemons_open['ability_id']  = df_pokemons_open['ability_url'].apply(lambda row: int(row.split('/')[-2]))\n",
    "        df_pokemons_open = df_pokemons_open.rename(columns={'name':'pokemon_name'})\n",
    "        df_pokemons_open = df_pokemons_open[['pokemon_id','ability_id','pokemon_name','height','weight','base_experience']]\n",
    "\n",
    "        #base de habilidades\n",
    "        df_habilidades = carrega_bd(\"habilidades\")\n",
    "        df_habilidades = df_habilidades.rename(columns={'name':'ability_name','effect':'ability_effect'})\n",
    "        df_habilidades = df_habilidades[['ability_id','ability_name','ability_effect']]\n",
    "\n",
    "        #join da base pokemons e habilidades\n",
    "        df_pokemons_habilidades = df_pokemons_open.merge(df_habilidades,on=['ability_id'],how='left')\n",
    " \n",
    "        #salva resultado final\n",
    "        salva_bd(df_pokemons_habilidades,\"pokemons_habilidades\")\n",
    "        print(\"pokemons_habilidades salva\")\n",
    "    except Exception as e:\n",
    "        alerta(nivel = 2, \n",
    "               base = \"pokemons_habilidades\", \n",
    "               etapa = \"TRANSFORMACAO\", \n",
    "               erro=e)\n",
    "        "
   ]
  },
  {
   "attachments": {},
   "cell_type": "markdown",
   "metadata": {},
   "source": [
    "### 3 Run"
   ]
  },
  {
   "cell_type": "code",
   "execution_count": 11,
   "metadata": {},
   "outputs": [
    {
     "name": "stdout",
     "output_type": "stream",
     "text": [
      "  > Base pokemons_url:\n",
      "\n",
      "  > Base habilidades_url:/pokemon?offset=1280&limit=10\n",
      "\n",
      "  > Base pokemons:/api/v2/ability?offset=340&limit=18\n",
      "\n"
     ]
    },
    {
     "name": "stderr",
     "output_type": "stream",
     "text": [
      "100%|██████████| 1281/1281 [04:22<00:00,  4.88it/s]\n"
     ]
    },
    {
     "name": "stdout",
     "output_type": "stream",
     "text": [
      "  > Base habilidades:\n",
      "\n"
     ]
    },
    {
     "name": "stderr",
     "output_type": "stream",
     "text": [
      "100%|██████████| 358/358 [01:37<00:00,  3.65it/s]\n"
     ]
    }
   ],
   "source": [
    "etapa_extracao()"
   ]
  },
  {
   "cell_type": "code",
   "execution_count": 12,
   "metadata": {},
   "outputs": [
    {
     "name": "stdout",
     "output_type": "stream",
     "text": [
      "pokemons_habilidades salva\n"
     ]
    }
   ],
   "source": [
    "etapa_transformacao()"
   ]
  },
  {
   "attachments": {},
   "cell_type": "markdown",
   "metadata": {},
   "source": [
    "## Load"
   ]
  },
  {
   "cell_type": "code",
   "execution_count": 13,
   "metadata": {},
   "outputs": [
    {
     "data": {
      "text/html": [
       "<div>\n",
       "<style scoped>\n",
       "    .dataframe tbody tr th:only-of-type {\n",
       "        vertical-align: middle;\n",
       "    }\n",
       "\n",
       "    .dataframe tbody tr th {\n",
       "        vertical-align: top;\n",
       "    }\n",
       "\n",
       "    .dataframe thead th {\n",
       "        text-align: right;\n",
       "    }\n",
       "</style>\n",
       "<table border=\"1\" class=\"dataframe\">\n",
       "  <thead>\n",
       "    <tr style=\"text-align: right;\">\n",
       "      <th></th>\n",
       "      <th>pokemon_id</th>\n",
       "      <th>ability_id</th>\n",
       "      <th>pokemon_name</th>\n",
       "      <th>height</th>\n",
       "      <th>weight</th>\n",
       "      <th>base_experience</th>\n",
       "      <th>ability_name</th>\n",
       "      <th>ability_effect</th>\n",
       "    </tr>\n",
       "  </thead>\n",
       "  <tbody>\n",
       "    <tr>\n",
       "      <th>0</th>\n",
       "      <td>1</td>\n",
       "      <td>65</td>\n",
       "      <td>bulbasaur</td>\n",
       "      <td>7</td>\n",
       "      <td>69</td>\n",
       "      <td>64.0</td>\n",
       "      <td>overgrow</td>\n",
       "      <td>When this Pokémon has 1/3 or less of its HP re...</td>\n",
       "    </tr>\n",
       "    <tr>\n",
       "      <th>1</th>\n",
       "      <td>1</td>\n",
       "      <td>34</td>\n",
       "      <td>bulbasaur</td>\n",
       "      <td>7</td>\n",
       "      <td>69</td>\n",
       "      <td>64.0</td>\n",
       "      <td>chlorophyll</td>\n",
       "      <td>Während strong sunlight ist die speed eines Po...</td>\n",
       "    </tr>\n",
       "    <tr>\n",
       "      <th>2</th>\n",
       "      <td>2</td>\n",
       "      <td>65</td>\n",
       "      <td>ivysaur</td>\n",
       "      <td>10</td>\n",
       "      <td>130</td>\n",
       "      <td>142.0</td>\n",
       "      <td>overgrow</td>\n",
       "      <td>When this Pokémon has 1/3 or less of its HP re...</td>\n",
       "    </tr>\n",
       "    <tr>\n",
       "      <th>3</th>\n",
       "      <td>2</td>\n",
       "      <td>34</td>\n",
       "      <td>ivysaur</td>\n",
       "      <td>10</td>\n",
       "      <td>130</td>\n",
       "      <td>142.0</td>\n",
       "      <td>chlorophyll</td>\n",
       "      <td>Während strong sunlight ist die speed eines Po...</td>\n",
       "    </tr>\n",
       "    <tr>\n",
       "      <th>4</th>\n",
       "      <td>3</td>\n",
       "      <td>65</td>\n",
       "      <td>venusaur</td>\n",
       "      <td>20</td>\n",
       "      <td>1000</td>\n",
       "      <td>263.0</td>\n",
       "      <td>overgrow</td>\n",
       "      <td>When this Pokémon has 1/3 or less of its HP re...</td>\n",
       "    </tr>\n",
       "  </tbody>\n",
       "</table>\n",
       "</div>"
      ],
      "text/plain": [
       "   pokemon_id  ability_id pokemon_name  height  weight  base_experience  \\\n",
       "0           1          65    bulbasaur       7      69             64.0   \n",
       "1           1          34    bulbasaur       7      69             64.0   \n",
       "2           2          65      ivysaur      10     130            142.0   \n",
       "3           2          34      ivysaur      10     130            142.0   \n",
       "4           3          65     venusaur      20    1000            263.0   \n",
       "\n",
       "  ability_name                                     ability_effect  \n",
       "0     overgrow  When this Pokémon has 1/3 or less of its HP re...  \n",
       "1  chlorophyll  Während strong sunlight ist die speed eines Po...  \n",
       "2     overgrow  When this Pokémon has 1/3 or less of its HP re...  \n",
       "3  chlorophyll  Während strong sunlight ist die speed eines Po...  \n",
       "4     overgrow  When this Pokémon has 1/3 or less of its HP re...  "
      ]
     },
     "execution_count": 13,
     "metadata": {},
     "output_type": "execute_result"
    }
   ],
   "source": [
    "df = carrega_bd('pokemons_habilidades')\n",
    "df.head()"
   ]
  },
  {
   "cell_type": "code",
   "execution_count": 14,
   "metadata": {},
   "outputs": [
    {
     "data": {
      "text/plain": [
       "(2908, 8)"
      ]
     },
     "execution_count": 14,
     "metadata": {},
     "output_type": "execute_result"
    }
   ],
   "source": [
    "df.shape\n"
   ]
  }
 ],
 "metadata": {
  "kernelspec": {
   "display_name": "Python 3",
   "language": "python",
   "name": "python3"
  },
  "language_info": {
   "codemirror_mode": {
    "name": "ipython",
    "version": 3
   },
   "file_extension": ".py",
   "mimetype": "text/x-python",
   "name": "python",
   "nbconvert_exporter": "python",
   "pygments_lexer": "ipython3",
   "version": "3.10.8"
  },
  "orig_nbformat": 4,
  "vscode": {
   "interpreter": {
    "hash": "9f8688d2bc69c748babb560adc9158621fb8aef49546882c3e4c6326402dd0cc"
   }
  }
 },
 "nbformat": 4,
 "nbformat_minor": 2
}
