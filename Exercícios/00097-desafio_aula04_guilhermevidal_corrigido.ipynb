{
 "cells": [
  {
   "cell_type": "code",
   "execution_count": 6,
   "metadata": {},
   "outputs": [],
   "source": [
    "\n",
    "# Dúvida -  qual a melhor prática: importar as bibliotecas dentro ou fora do método?\n",
    "from plyer import notification\n",
    "from datetime import datetime\n",
    "\n",
    "# Definimos os níveis de alerta\n",
    "niveis = {1:\"Baixo\",\n",
    "          2: \"Médio\",\n",
    "          3: \"Alto\"}\n",
    "\n",
    "def alerta(nivel, base, etapa):\n",
    "    \"\"\"\n",
    "    Retorna um alerta\n",
    "\n",
    "    :param nivel: Nível do alerta\n",
    "    :param base: Base onde ocorreu a falha\n",
    "    :param etapa: Etapa onde ocorreu a falha\n",
    "\n",
    "    :type nivel: int\n",
    "    :type base: str\n",
    "    :type etapa: str\n",
    "    \"\"\"\n",
    "\n",
    "    if nivel not in niveis:\n",
    "        raise ValueError(\"Nível inválido. Deve ser 1, 2 ou 3.\")\n",
    "\n",
    "\n",
    "    return notification.notify(title=f\"ATENÇÃO: Alerta {niveis[nivel]}\",\n",
    "                               message=f\"Falha no carregamento da base {base} na etapa {etapa}\\n{datetime.now()}\")\n"
   ]
  },
  {
   "cell_type": "code",
   "execution_count": 7,
   "metadata": {},
   "outputs": [],
   "source": [
    "alerta(2,\"poke\", \"carregamento\")"
   ]
  },
  {
   "cell_type": "markdown",
   "metadata": {},
   "source": [
    "Olá, Guilherme!\n",
    "\n",
    "\n",
    "Tudo bom?\n",
    "\n",
    "\n",
    "Neste desafio, o objetivo era utilizar a função notification.notify() para criar uma função de alerta de falha de carregamento de base de dados. Recebi o seu desafio, li suas respostas e vou compartilhar com você os pontos positivos e os pontos de desenvolvimento nas próximas linhas, ok? Antes de mais nada, gostaria de reforçar que um dos objetivos desse feedback é auxiliar você na sua jornada aqui na Coderhouse, contribuindo para o seu desenvolvimento no curso e nessa área de atuação e caso você tenha dúvidas, pode me enviar uma mensagem aqui no chat da plataforma. Bora lá?\n",
    "\n",
    "\n",
    "\n",
    "Pontos positivos:\n",
    " - Demonstrou ter absorvido muito bem os conceitos e fundamentos apresentados em todas as aulas\n",
    "\n",
    "\n",
    "Pontos de desenvolvimento + Orientações:\n",
    " - Tente incluir pequenos comentários sobre o que está sendo desenvolvido\n",
    " - A única coisa que eu adicionaria seria uma verificação para garantir que o nível passado seja válido (1, 2 ou 3). Isso pode ser feito com uma estrutura if para evitar exceções caso o usuário forneça um valor inválido.\n",
    "\n",
    " Sobre a dúvida: tanto faz ser dentro ou fora da célula, mas importante que seja fora da função. Caso precise utilizar a mesma biblioteca em outras funções já vai ter sido importada.\n",
    "\n",
    "\n",
    "Estou à disposição caso tenha ficado com dúvidas, ok? Abraços"
   ]
  }
 ],
 "metadata": {
  "kernelspec": {
   "display_name": "Python 3",
   "language": "python",
   "name": "python3"
  },
  "language_info": {
   "codemirror_mode": {
    "name": "ipython",
    "version": 3
   },
   "file_extension": ".py",
   "mimetype": "text/x-python",
   "name": "python",
   "nbconvert_exporter": "python",
   "pygments_lexer": "ipython3",
   "version": "3.7.0"
  }
 },
 "nbformat": 4,
 "nbformat_minor": 2
}
