{
 "cells": [
  {
   "cell_type": "markdown",
   "metadata": {},
   "source": [
    "## Exercício 1\n",
    "### Calculadora de IMC"
   ]
  },
  {
   "cell_type": "code",
   "execution_count": 34,
   "metadata": {},
   "outputs": [
    {
     "name": "stdout",
     "output_type": "stream",
     "text": [
      "Seu IMC é 28.082170873904946\n"
     ]
    }
   ],
   "source": [
    "peso = float(input(\"Digite seu peso (em kg):\"))\n",
    "altura = float(input(\"Digite sua altura (em m):\"))\n",
    "imc = peso/(altura**2)\n",
    "print(f\"Seu IMC é {imc}\")\n"
   ]
  },
  {
   "cell_type": "markdown",
   "metadata": {},
   "source": [
    "## Sugestão de desenvolvimento"
   ]
  },
  {
   "cell_type": "code",
   "execution_count": 2,
   "metadata": {},
   "outputs": [
    {
     "name": "stdout",
     "output_type": "stream",
     "text": [
      "Seu IMC é 24.77\n"
     ]
    }
   ],
   "source": [
    "peso = float(input(\"Digite seu peso (em kg):\"))\n",
    "altura = float(input(\"Digite sua altura (em m):\"))\n",
    "\n",
    "imc = round(peso/(altura**2),2)\n",
    "\n",
    "print(f\"Seu IMC é {imc}\")\n"
   ]
  },
  {
   "cell_type": "markdown",
   "metadata": {},
   "source": [
    "## Exercício 2\n",
    "### Inserir inteiros em uma lista"
   ]
  },
  {
   "cell_type": "code",
   "execution_count": 38,
   "metadata": {},
   "outputs": [
    {
     "name": "stdout",
     "output_type": "stream",
     "text": [
      "Sua lista é [1, 5, 45, 23, 12]\n"
     ]
    }
   ],
   "source": [
    "lista = []\n",
    "while len(lista) <= 4:\n",
    "    numero = int(input(\"Insira um número na lista: \"))\n",
    "    lista.append(numero)\n",
    "print(f\"Sua lista é {lista}\")"
   ]
  },
  {
   "cell_type": "markdown",
   "metadata": {},
   "source": [
    "## Exercício 3\n",
    "### Separar nomes em lista"
   ]
  },
  {
   "cell_type": "code",
   "execution_count": 1,
   "metadata": {},
   "outputs": [
    {
     "name": "stdout",
     "output_type": "stream",
     "text": [
      "['Jose', ' Carlos', ' Antonio']\n"
     ]
    }
   ],
   "source": [
    "nomes = input(\"Digite nomes separados por vírgula: \")\n",
    "lista = nomes.split(sep= \",\")\n",
    "print(lista)"
   ]
  },
  {
   "cell_type": "markdown",
   "metadata": {},
   "source": [
    "## Sugestão de desenvolvimento:"
   ]
  },
  {
   "cell_type": "code",
   "execution_count": 3,
   "metadata": {},
   "outputs": [
    {
     "name": "stdout",
     "output_type": "stream",
     "text": [
      "['Jose', 'Antonio', 'Carlos']\n"
     ]
    }
   ],
   "source": [
    "nomes = input(\"Digite nomes separados por vírgula: \")\n",
    "\n",
    "nomes = nomes.replace(' ','')\n",
    "lista = nomes.split(sep= \",\")\n",
    "\n",
    "print(lista)"
   ]
  },
  {
   "cell_type": "markdown",
   "metadata": {},
   "source": [
    "Olá, Guilherme!\n",
    "\n",
    "\n",
    "Tudo bom?\n",
    "\n",
    "\n",
    "Neste desafio, o objetivo era desenvolver os programas para os três problemas apresentados. Recebi o seu desafio, li suas respostas e vou compartilhar com você os pontos positivos e os pontos de desenvolvimento nas próximas linhas, ok? Antes de mais nada, gostaria de reforçar que um dos objetivos desse feedback é auxiliar você na sua jornada aqui na Coderhouse, contribuindo para o seu desenvolvimento no curso e nessa área de atuação e caso você tenha dúvidas, pode me enviar uma mensagem aqui no chat da plataforma. Bora lá? \n",
    "\n",
    "\n",
    "\n",
    "Pontos positivos: \n",
    " - Boa compreensão dos problemas, refletindo no texto claro dos input (principalmente do imc, orientando a inserção da altura em m)\n",
    " - Conseguiu aplicar as operações e funções apresentadas na aula\n",
    " - Utilizou recursos avançados para o que foi apresentado na aula, como o loop no segundo exercício\n",
    "\n",
    "\n",
    "Pontos de desenvolvimento + Orientações:\n",
    " - No terceiro exercício, o código desenvolvido atende o que foi pedido, porém, mesmo pedindo ao usuário que separa os nomes por vírgula, é esperado que também sejam inseridos espaços. Por isso seria interessante colocar um tratamento para que cada elemento da lista seja exatamente um nome, e não termos um espaço antes ou depois de cada um, o que ajudaria a evitar erros em um possível desenvolvimento a partir dessa lista de nomes.\n",
    " - Poderia ter arredondado o IMC no primeiro exercício, para que a visualização no print ficasse mais limpa\n",
    " - Tentar dividir os códigos dentro de uma célula em blocos, de acordo com etapas de desenvolvimento, e utilizar pequenos comentários também, isso facilita o entendimento e ajuda em caso de manutenção do código\n",
    "\n",
    "\n",
    "Estou à disposição caso tenha ficado com dúvidas, ok? Abraços"
   ]
  },
  {
   "cell_type": "code",
   "execution_count": null,
   "metadata": {},
   "outputs": [],
   "source": []
  }
 ],
 "metadata": {
  "kernelspec": {
   "display_name": "Python 3",
   "language": "python",
   "name": "python3"
  },
  "language_info": {
   "codemirror_mode": {
    "name": "ipython",
    "version": 3
   },
   "file_extension": ".py",
   "mimetype": "text/x-python",
   "name": "python",
   "nbconvert_exporter": "python",
   "pygments_lexer": "ipython3",
   "version": "3.11.0"
  }
 },
 "nbformat": 4,
 "nbformat_minor": 2
}
