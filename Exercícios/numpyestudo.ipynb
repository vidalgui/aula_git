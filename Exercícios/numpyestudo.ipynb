{
 "cells": [
  {
   "cell_type": "code",
   "execution_count": 2,
   "metadata": {},
   "outputs": [],
   "source": [
    "import numpy as np\n",
    "import pandas as pd\n",
    "from datetime import datetime\n"
   ]
  },
  {
   "cell_type": "markdown",
   "metadata": {},
   "source": [
    "### Exercício 1\n",
    "- Crie um array Numpy com 10 elementos inteiros aleatórios entre 0 - 100 e exiba os valores e tipos de dado do array"
   ]
  },
  {
   "cell_type": "code",
   "execution_count": 3,
   "metadata": {},
   "outputs": [
    {
     "name": "stdout",
     "output_type": "stream",
     "text": [
      "[44 54 29 10  7 35 14 14 46 54]\n"
     ]
    }
   ],
   "source": [
    "arr1 = np.random.randint(0, 100, size=10)\n",
    "print(arr1)"
   ]
  },
  {
   "cell_type": "markdown",
   "metadata": {},
   "source": [
    "### Exercício 2\n",
    "- Crie uma matriz de 5x5 com valores aleatórios de [0,1) e encontre o valor mínimo, máximo e a média da matriz"
   ]
  },
  {
   "cell_type": "code",
   "execution_count": 10,
   "metadata": {},
   "outputs": [
    {
     "name": "stdout",
     "output_type": "stream",
     "text": [
      "min: 0.003967677677713222\n",
      "max: 0.9941314472093579\n",
      "max: 0.4515209490982243\n"
     ]
    }
   ],
   "source": [
    "arr2 = np.random.rand(5,5)\n",
    "print(f\"min: {arr2.min()}\")\n",
    "print(f\"max: {arr2.max()}\")\n",
    "print(f\"max: {arr2.mean()}\")"
   ]
  },
  {
   "cell_type": "markdown",
   "metadata": {},
   "source": [
    "### Exercício 3\n",
    "- Crie um array com 10 elementos aleartórios no intervalo [0,1). Em seguida, crie um novo array com os elementos do primeiro array multiplicados por 10 e convertidos para inteiro"
   ]
  },
  {
   "cell_type": "code",
   "execution_count": 24,
   "metadata": {},
   "outputs": [
    {
     "name": "stdout",
     "output_type": "stream",
     "text": [
      "[0.73717039 0.4288149  0.81219517 0.05376164 0.84757684 0.95100922\n",
      " 0.32676162 0.19775989 0.47302698 0.17562431]\n",
      "[7 4 8 0 8 9 3 1 4 1]\n"
     ]
    }
   ],
   "source": [
    "arr3 = np.random.rand(10)\n",
    "print(arr3)\n",
    "arr3_mult = (arr3*10).astype(int)\n",
    "print(arr3_mult)\n"
   ]
  },
  {
   "cell_type": "markdown",
   "metadata": {},
   "source": [
    "### Exercício 4\n",
    "- Crie um array de duas dimensoes com shape (3,3) e valores aleatórios no intervalo [0,9]. Subsatitua todos os elementos da segunda linha por -1"
   ]
  },
  {
   "cell_type": "code",
   "execution_count": 34,
   "metadata": {},
   "outputs": [
    {
     "name": "stdout",
     "output_type": "stream",
     "text": [
      "[[ 5  4]\n",
      " [-1 -1]]\n"
     ]
    }
   ],
   "source": [
    "arr4 = np.random.randint(0,9,(2,2))\n",
    "arr4[-1] = -1\n",
    "print(arr4)"
   ]
  },
  {
   "cell_type": "markdown",
   "metadata": {},
   "source": [
    "### Exercício 5\n",
    "Crie um DataFrame com as seguintes informações:\n",
    "- Coluna \"fruta\": \"banana\", \"maça\", \"pera\"\n",
    "- Coluna \"preco\": 7.9, 10.20, 11.80 \n",
    "- Coluna \"quantidade\": 12, 3, 4"
   ]
  },
  {
   "cell_type": "code",
   "execution_count": 38,
   "metadata": {},
   "outputs": [
    {
     "name": "stdout",
     "output_type": "stream",
     "text": [
      "    fruta  preco  quantidade\n",
      "0  Banana    7.9          12\n",
      "1    Maça   10.2           3\n",
      "2    Pera   11.8           4\n"
     ]
    }
   ],
   "source": [
    "tabela = {\"fruta\": [\"Banana\", \"Maça\", \"Pera\"], \"preco\":[7.90,10.20,11.80], \"quantidade\":[12,3,4]}\n",
    "df = pd.DataFrame(tabela)\n",
    "print(df)"
   ]
  }
 ],
 "metadata": {
  "kernelspec": {
   "display_name": "Python 3",
   "language": "python",
   "name": "python3"
  },
  "language_info": {
   "codemirror_mode": {
    "name": "ipython",
    "version": 3
   },
   "file_extension": ".py",
   "mimetype": "text/x-python",
   "name": "python",
   "nbconvert_exporter": "python",
   "pygments_lexer": "ipython3",
   "version": "3.7.0"
  }
 },
 "nbformat": 4,
 "nbformat_minor": 2
}
