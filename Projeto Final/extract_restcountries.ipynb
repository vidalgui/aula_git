{
 "cells": [
  {
   "cell_type": "markdown",
   "metadata": {},
   "source": [
    "# Pipeline de dados - API RestCountries"
   ]
  },
  {
   "cell_type": "code",
   "execution_count": 1,
   "metadata": {},
   "outputs": [],
   "source": [
    "import pandas as pd \n",
    "import requests\n",
    "import sqlite3\n",
    "import numpy as np\n",
    "from plyer import notification\n",
    "from datetime import datetime"
   ]
  },
  {
   "cell_type": "markdown",
   "metadata": {},
   "source": [
    "## 00. Constantes e Funções auxiliares"
   ]
  },
  {
   "cell_type": "code",
   "execution_count": 2,
   "metadata": {},
   "outputs": [],
   "source": [
    "DB_PATH = \"restcountries.db\""
   ]
  },
  {
   "cell_type": "code",
   "execution_count": 3,
   "metadata": {},
   "outputs": [],
   "source": [
    "def alerta(nivel, base, etapa):\n",
    "    \"\"\"\n",
    "    Retorna um alerta no desktop\n",
    "\n",
    "    :param nivel: Nível do alerta\n",
    "    :param base: Base onde ocorreu a falha\n",
    "    :param etapa: Etapa onde ocorreu a falha\n",
    "\n",
    "    :type nivel: int\n",
    "    :type base: str\n",
    "    :type etapa: str\n",
    "    \"\"\"\n",
    "\n",
    "    niveis = {1:\"Baixo\",\n",
    "          2: \"Médio\",\n",
    "          3: \"Alto\"}\n",
    "\n",
    "    if nivel not in niveis:\n",
    "        raise ValueError(f\"Nível inválido. Deve ser 1, 2 ou 3\")\n",
    "    \n",
    "    alerta = notification.notify(title=f\"ATENÇÃO: Alerta {niveis[nivel]}\",\n",
    "                               message=f\"Falha no carregamento da base {base} na etapa {etapa}\\n{datetime.now()}\")\n",
    "    return alerta\n",
    "\n",
    "def get_req(url, base=\"base\"):\n",
    "    \"\"\"\n",
    "    Retorna o JSON de uma requisição a uma API. Em caso de resposta diferente de 200, retorna um alerta.\n",
    "\n",
    "    :param url: URL da API\n",
    "    :param base: Nome da base que será criada\n",
    "\n",
    "    :type url: str\n",
    "    :type base: str\n",
    "    \"\"\"\n",
    "    # Trata respostas diferentes da esperada (200)\n",
    "    req = requests.get(url)\n",
    "    if req.status_code != 200:\n",
    "        return alerta(2, base, \"Extração\")\n",
    "    \n",
    "    else:\n",
    "        return req.json()\n",
    "    \n",
    "def criar_db(caminho_db):\n",
    "    \"\"\"Cria um banco de dados SQLite no caminho especificado.\n",
    "    \n",
    "    :param caminho_db: string com o caminho completo para o arquivo do banco de dados.\n",
    "    :return: a conexão com o banco de dados ou None em caso de falha.\n",
    "    \"\"\"\n",
    "    conn = None\n",
    "    try:\n",
    "        conn = sqlite3.connect(caminho_db)\n",
    "        print(f\"Banco de dados criado e conectado com sucesso em {caminho_db}\")\n",
    "        return conn.close()\n",
    "    except Error as e:\n",
    "        print(f\"Erro ao conectar ao banco de dados: {e}\")\n",
    "    \n",
    "\n",
    "def tabelas_bd(path=DB_PATH):\n",
    "    \"\"\"Retorna todas as tabelas da DB especificada\n",
    "\n",
    "    Args:\n",
    "        path (str, optional): caminho da db. Padrão DB_PATH.\n",
    "\n",
    "    Returns:\n",
    "        pandas.DataFrame: Dataframe contendo as tabelas da DB\n",
    "    \"\"\"\n",
    "    conn = sqlite3.connect(path)\n",
    "    query = \"SELECT name FROM sqlite_master WHERE type='table'\"\n",
    "    schema = pd.read_sql(query, conn)\n",
    "    conn.close()\n",
    "    \n",
    "    return schema\n",
    "    \n",
    "def salva_bd(df, nome_tabela):\n",
    "    \"\"\"Salva o DataFrame como uma tabela na base de dados\n",
    "\n",
    "    Args:\n",
    "        df (pandas.DataFrame): Tabela a ser inserida na base de dados\n",
    "        nome_tabela (str): Nome da tabela a ser inserida\n",
    "\n",
    "    Returns:\n",
    "        bool: True\n",
    "    \"\"\"\n",
    "    conn = sqlite3.connect(DB_PATH)\n",
    "    salva_df = df.to_sql(nome_tabela, conn, if_exists='replace', index=False)\n",
    "    conn.close()\n",
    "\n",
    "    return True\n",
    "\n",
    "def carrega_bd(nome_tabela, path = DB_PATH):\n",
    "    \"\"\"Carrega a tabela referenciada na base de dados\n",
    "\n",
    "    Args:\n",
    "        nome_tabela (str): Nome da tabela\n",
    "        path (str, optional): Caminho para a base de dados. Padrão DB_PATH.\n",
    "\n",
    "    Returns:\n",
    "        pandas.DataFrame: Tabela em formato de DataFrame\n",
    "    \"\"\"\n",
    "    conn = sqlite3.connect(path)\n",
    "    query = f\"SELECT * FROM {nome_tabela}\"\n",
    "    df_query = pd.read_sql(query, conn)\n",
    "    conn.close()\n",
    "\n",
    "    return df_query\n",
    "\n",
    "    "
   ]
  },
  {
   "cell_type": "markdown",
   "metadata": {},
   "source": []
  },
  {
   "cell_type": "markdown",
   "metadata": {},
   "source": [
    "## 01. Premissas para extração\n",
    "Para esta atividade, utilizaremos a API REST Countries\n",
    "\n",
    "Vamos extrair 3 tabelas a partir da requisição"
   ]
  },
  {
   "cell_type": "code",
   "execution_count": 4,
   "metadata": {},
   "outputs": [],
   "source": [
    "# Definimos a url e executamos a request\n",
    "url = \"https://restcountries.com/v3.1/all\"\n",
    "req = get_req(url)"
   ]
  },
  {
   "cell_type": "code",
   "execution_count": 5,
   "metadata": {},
   "outputs": [
    {
     "name": "stdout",
     "output_type": "stream",
     "text": [
      "Entradas na tabela: 250\n",
      "Dados disponíveis: ['name', 'tld', 'cca2', 'ccn3', 'cca3', 'cioc', 'independent', 'status', 'unMember', 'currencies', 'idd', 'capital', 'altSpellings', 'region', 'subregion', 'languages', 'translations', 'latlng', 'landlocked', 'area', 'demonyms', 'flag', 'maps', 'population', 'gini', 'fifa', 'car', 'timezones', 'continents', 'flags', 'coatOfArms', 'startOfWeek', 'capitalInfo', 'postalCode']\n"
     ]
    }
   ],
   "source": [
    "# Análise dos dados da tabela\n",
    "\n",
    "print(f\"Entradas na tabela: {len(req)}\")\n",
    "\n",
    "dados_disponiveis = list(req[0].keys())\n",
    "print(f\"Dados disponíveis: {dados_disponiveis}\")\n",
    "\n"
   ]
  },
  {
   "cell_type": "markdown",
   "metadata": {},
   "source": [
    "## 02. Extração das tabelas "
   ]
  },
  {
   "cell_type": "markdown",
   "metadata": {},
   "source": [
    "### 02.00 - Tabela 0\n",
    "TUDO!\n",
    "\n",
    "A própria requisição inteiramente transformada em um DataFrame"
   ]
  },
  {
   "cell_type": "code",
   "execution_count": 6,
   "metadata": {},
   "outputs": [],
   "source": [
    "def extract_all():\n",
    "    df_req = pd.DataFrame(req)\n",
    "    return df_req"
   ]
  },
  {
   "cell_type": "markdown",
   "metadata": {},
   "source": [
    "### 02.01 - Tabela I\n",
    "\n",
    "Moedas do mundo\n"
   ]
  },
  {
   "cell_type": "markdown",
   "metadata": {},
   "source": [
    "Passo 0: quais as informações relativas a moeda que temos na tabela principal?"
   ]
  },
  {
   "cell_type": "code",
   "execution_count": 7,
   "metadata": {},
   "outputs": [],
   "source": [
    "def extract_currencies():\n",
    "    df_currencies = df_req[[\"currencies\"]]\n",
    "    return df_currencies"
   ]
  },
  {
   "cell_type": "markdown",
   "metadata": {},
   "source": [
    "### 02.02 - Tabela II\n",
    "Nomes oficiais, extensões e população"
   ]
  },
  {
   "cell_type": "code",
   "execution_count": 8,
   "metadata": {},
   "outputs": [],
   "source": [
    "def extract_demographics():\n",
    "\n",
    "    # Definindo as colunas\n",
    "    country_id = [i[\"ccn3\"] if \"ccn3\" in i else np.nan for i in req]\n",
    "    names = [i[\"name\"][\"official\"] for i in req]\n",
    "    extensions = [i[\"area\"] for i in req]\n",
    "    population = [i[\"population\"] for i in req]\n",
    "\n",
    "    # Criando o dicionário que dará origem ao DataFrame\n",
    "\n",
    "    dict_t2 = {\"country_id\": country_id,\n",
    "            \"name_official\": names,\n",
    "            \"extension\": extensions,\n",
    "            \"population\": population}\n",
    "\n",
    "    df = pd.DataFrame(dict_t2)\n",
    "    df[\"population_density\"] = df[\"population\"]/df[\"extension\"]\n",
    "    return df\n"
   ]
  },
  {
   "cell_type": "markdown",
   "metadata": {},
   "source": [
    "### 02.03 - Tabela III\n",
    "Nomes"
   ]
  },
  {
   "cell_type": "code",
   "execution_count": 9,
   "metadata": {},
   "outputs": [],
   "source": [
    "def extract_country_names():\n",
    "    country_id = [i[\"ccn3\"] if \"ccn3\" in i else np.nan for i in req]\n",
    "    t1_names = [i[\"name\"] for i in req]\n",
    "    t1_regions = [i[\"region\"] for i in req]\n",
    "    # Tratamos o caso de não existir a chave \"subregion\" no JSON da requisição\n",
    "    t1_subregions = [i[\"subregion\"] if \"subregion\" in i else np.nan for i in req]\n",
    "\n",
    "    df = pd.DataFrame({\"country_id\": country_id,\n",
    "                    \"name\": t1_names,\n",
    "                    \"region\": t1_regions,\n",
    "                    \"subregion\": t1_subregions})\n",
    "    \n",
    "    \n",
    "    return df\n"
   ]
  },
  {
   "cell_type": "code",
   "execution_count": 10,
   "metadata": {},
   "outputs": [
    {
     "data": {
      "text/html": [
       "<div>\n",
       "<style scoped>\n",
       "    .dataframe tbody tr th:only-of-type {\n",
       "        vertical-align: middle;\n",
       "    }\n",
       "\n",
       "    .dataframe tbody tr th {\n",
       "        vertical-align: top;\n",
       "    }\n",
       "\n",
       "    .dataframe thead th {\n",
       "        text-align: right;\n",
       "    }\n",
       "</style>\n",
       "<table border=\"1\" class=\"dataframe\">\n",
       "  <thead>\n",
       "    <tr style=\"text-align: right;\">\n",
       "      <th></th>\n",
       "      <th>country_id</th>\n",
       "      <th>name</th>\n",
       "      <th>region</th>\n",
       "      <th>subregion</th>\n",
       "    </tr>\n",
       "  </thead>\n",
       "  <tbody>\n",
       "    <tr>\n",
       "      <th>0</th>\n",
       "      <td>196</td>\n",
       "      <td>{'common': 'Cyprus', 'official': 'Republic of ...</td>\n",
       "      <td>Europe</td>\n",
       "      <td>Southern Europe</td>\n",
       "    </tr>\n",
       "    <tr>\n",
       "      <th>1</th>\n",
       "      <td>232</td>\n",
       "      <td>{'common': 'Eritrea', 'official': 'State of Er...</td>\n",
       "      <td>Africa</td>\n",
       "      <td>Eastern Africa</td>\n",
       "    </tr>\n",
       "    <tr>\n",
       "      <th>2</th>\n",
       "      <td>430</td>\n",
       "      <td>{'common': 'Liberia', 'official': 'Republic of...</td>\n",
       "      <td>Africa</td>\n",
       "      <td>Western Africa</td>\n",
       "    </tr>\n",
       "    <tr>\n",
       "      <th>3</th>\n",
       "      <td>060</td>\n",
       "      <td>{'common': 'Bermuda', 'official': 'Bermuda', '...</td>\n",
       "      <td>Americas</td>\n",
       "      <td>North America</td>\n",
       "    </tr>\n",
       "    <tr>\n",
       "      <th>4</th>\n",
       "      <td>336</td>\n",
       "      <td>{'common': 'Vatican City', 'official': 'Vatica...</td>\n",
       "      <td>Europe</td>\n",
       "      <td>Southern Europe</td>\n",
       "    </tr>\n",
       "    <tr>\n",
       "      <th>...</th>\n",
       "      <td>...</td>\n",
       "      <td>...</td>\n",
       "      <td>...</td>\n",
       "      <td>...</td>\n",
       "    </tr>\n",
       "    <tr>\n",
       "      <th>245</th>\n",
       "      <td>728</td>\n",
       "      <td>{'common': 'South Sudan', 'official': 'Republi...</td>\n",
       "      <td>Africa</td>\n",
       "      <td>Middle Africa</td>\n",
       "    </tr>\n",
       "    <tr>\n",
       "      <th>246</th>\n",
       "      <td>340</td>\n",
       "      <td>{'common': 'Honduras', 'official': 'Republic o...</td>\n",
       "      <td>Americas</td>\n",
       "      <td>Central America</td>\n",
       "    </tr>\n",
       "    <tr>\n",
       "      <th>247</th>\n",
       "      <td>670</td>\n",
       "      <td>{'common': 'Saint Vincent and the Grenadines',...</td>\n",
       "      <td>Americas</td>\n",
       "      <td>Caribbean</td>\n",
       "    </tr>\n",
       "    <tr>\n",
       "      <th>248</th>\n",
       "      <td>144</td>\n",
       "      <td>{'common': 'Sri Lanka', 'official': 'Democrati...</td>\n",
       "      <td>Asia</td>\n",
       "      <td>Southern Asia</td>\n",
       "    </tr>\n",
       "    <tr>\n",
       "      <th>249</th>\n",
       "      <td>344</td>\n",
       "      <td>{'common': 'Hong Kong', 'official': 'Hong Kong...</td>\n",
       "      <td>Asia</td>\n",
       "      <td>Eastern Asia</td>\n",
       "    </tr>\n",
       "  </tbody>\n",
       "</table>\n",
       "<p>250 rows × 4 columns</p>\n",
       "</div>"
      ],
      "text/plain": [
       "    country_id                                               name    region  \\\n",
       "0          196  {'common': 'Cyprus', 'official': 'Republic of ...    Europe   \n",
       "1          232  {'common': 'Eritrea', 'official': 'State of Er...    Africa   \n",
       "2          430  {'common': 'Liberia', 'official': 'Republic of...    Africa   \n",
       "3          060  {'common': 'Bermuda', 'official': 'Bermuda', '...  Americas   \n",
       "4          336  {'common': 'Vatican City', 'official': 'Vatica...    Europe   \n",
       "..         ...                                                ...       ...   \n",
       "245        728  {'common': 'South Sudan', 'official': 'Republi...    Africa   \n",
       "246        340  {'common': 'Honduras', 'official': 'Republic o...  Americas   \n",
       "247        670  {'common': 'Saint Vincent and the Grenadines',...  Americas   \n",
       "248        144  {'common': 'Sri Lanka', 'official': 'Democrati...      Asia   \n",
       "249        344  {'common': 'Hong Kong', 'official': 'Hong Kong...      Asia   \n",
       "\n",
       "           subregion  \n",
       "0    Southern Europe  \n",
       "1     Eastern Africa  \n",
       "2     Western Africa  \n",
       "3      North America  \n",
       "4    Southern Europe  \n",
       "..               ...  \n",
       "245    Middle Africa  \n",
       "246  Central America  \n",
       "247        Caribbean  \n",
       "248    Southern Asia  \n",
       "249     Eastern Asia  \n",
       "\n",
       "[250 rows x 4 columns]"
      ]
     },
     "execution_count": 10,
     "metadata": {},
     "output_type": "execute_result"
    }
   ],
   "source": [
    "extract_country_names()"
   ]
  },
  {
   "cell_type": "markdown",
   "metadata": {},
   "source": [
    "## 03 - Tratamento das tabelas"
   ]
  },
  {
   "cell_type": "markdown",
   "metadata": {},
   "source": [
    "### 03.01 - Tabela 01 - Moedas do Mundo"
   ]
  },
  {
   "cell_type": "markdown",
   "metadata": {},
   "source": [
    "Queremos extrair todas as moedas existentes no mundo. Para isto, executaremos os seguintes passos:\n",
    "- extrair as informações de cada dicionário presente em cada linha\n",
    "- transformar cada uma das moedas em uma nova linha\n",
    "- transformar cada uma das chaves de cada moeda em uma nova coluna (nome e símbolo)\n",
    "- tratar missing values\n",
    "- concatenar o resultado"
   ]
  },
  {
   "cell_type": "code",
   "execution_count": 11,
   "metadata": {},
   "outputs": [],
   "source": [
    "def trata_currencies(df_req):\n",
    "    \"\"\"Tratamento da tabela de moedas\n",
    "\n",
    "    Args:\n",
    "        df_req (pandas.DataFrame): DataFrame de moedas da RestCountries\n",
    "\n",
    "    Returns:\n",
    "        pandas.DataFrame: DataFrame tratado\n",
    "    \"\"\"\n",
    "    currencies_acro = df_req[\"currencies\"].apply(pd.Series).melt(var_name=\"sigla_moeda\", value_name=\"nome_moeda\").dropna()\n",
    "    currencies_name_symbol = currencies_acro[[\"nome_moeda\"]][\"nome_moeda\"].apply(pd.Series)\n",
    "    currencies = pd.concat([currencies_acro, currencies_name_symbol], axis=1).drop(\"nome_moeda\", axis=1)\n",
    "    currencies = currencies.drop_duplicates(\"name\").reset_index(drop=True)\n",
    "    return currencies"
   ]
  },
  {
   "cell_type": "markdown",
   "metadata": {},
   "source": [
    "### 03.02 - Tabela 02 - Demografia"
   ]
  },
  {
   "cell_type": "markdown",
   "metadata": {},
   "source": [
    "### 03.03 - Tabela 03 - Nomes de países"
   ]
  },
  {
   "cell_type": "markdown",
   "metadata": {},
   "source": [
    "Nesta tabela, identificamos 2 possibilidades de tratamento:\n",
    "- Precisamos \"desempacotar\" os dicionários (tratamento semelhante ao da tabela de moedas)\n",
    "    - extrair as informações de cada dicionário presente em cada linha\n",
    "    - transformar cada uma das moedas em uma nova linha\n",
    "    - transformar cada uma das chaves de cada moeda em uma nova coluna (nome e símbolo)\n",
    "    - tratar missing values\n",
    "    - concatenar o resultado\n",
    "\n",
    "  "
   ]
  },
  {
   "cell_type": "code",
   "execution_count": 12,
   "metadata": {},
   "outputs": [],
   "source": [
    "def trata_paises(tabela_paises):\n",
    "    \"\"\"Tratamento da tabela de países\n",
    "\n",
    "    Args:\n",
    "        df_req (pandas.DataFrame): DataFrame de países da RestCountries\n",
    "\n",
    "    Returns:\n",
    "        pandas.DataFrame: DataFrame tratado\n",
    "    \"\"\"\n",
    "    tabela_paises_nomes = tabela_paises[\"name\"].apply(pd.Series)\n",
    "    tabela_paises_nomes = tabela_paises_nomes[[\"common\",\"official\"]]\n",
    "    tabela_paises_final = pd.concat([tabela_paises, tabela_paises_nomes], axis=1).drop(\"name\", axis=1)\n",
    "\n",
    "    return tabela_paises_final\n",
    "\n",
    "\n"
   ]
  },
  {
   "cell_type": "markdown",
   "metadata": {},
   "source": [
    "### Apêndice\n",
    "#### Ideias para o projeto:\n",
    "- Fazer a tabela 1 extrair TODOS os dados da API, a princípio classificando-os pelo country_id\n",
    "- Na tabela 3, extrair na verdade todas as moedas do mundo, com nomes, acrônimos e símbolos. Atribuir um id para cada moeda"
   ]
  },
  {
   "cell_type": "markdown",
   "metadata": {},
   "source": [
    "## 04 - Execução"
   ]
  },
  {
   "cell_type": "code",
   "execution_count": 15,
   "metadata": {},
   "outputs": [
    {
     "name": "stdout",
     "output_type": "stream",
     "text": [
      "> Criando banco de dados\n",
      "Banco de dados criado e conectado com sucesso em restcountries.db\n",
      "> Iniciando etapa de extração\n",
      "> Tabela - Moedas\n",
      "> Tabela - Moedas criada\n",
      "> Tabela - Demografia\n",
      "> Tabela - Demografia criada\n",
      "> Tabela - Nomes\n",
      "> Tabela - Nomes de países\n",
      "PROCESSO FINALIZADO COM SUCESSO\n"
     ]
    }
   ],
   "source": [
    "print(\"> Criando banco de dados\")\n",
    "criar_db(DB_PATH)\n",
    "print (\"> Iniciando etapa de extração\")\n",
    "df_req = extract_all()\n",
    "\n",
    "######################################################\n",
    "print(\"> Tabela - Moedas\")\n",
    "try:\n",
    "        tabela_moedas = extract_currencies()\n",
    "        tabela_moedas = trata_currencies(tabela_moedas)\n",
    "        salva_bd(tabela_moedas,\"currencies\")\n",
    "        print(\"> Tabela - Moedas criada\")\n",
    "except:\n",
    "        alerta(nivel = 3, \n",
    "               base = \"currencies\", \n",
    "               etapa = \"EXTRACAO\")\n",
    "        \n",
    "######################################################\n",
    "print(\"> Tabela - Demografia\")\n",
    "try:\n",
    "        tabela_demografia = extract_demographics()\n",
    "        salva_bd(tabela_demografia,\"demographics\")\n",
    "        print(\"> Tabela - Demografia criada\")\n",
    "except:\n",
    "        alerta(nivel = 3, \n",
    "               base = \"demographics\", \n",
    "               etapa = \"EXTRACAO\")\n",
    "        \n",
    "######################################################\n",
    "print(\"> Tabela - Nomes\")\n",
    "try:\n",
    "        tabela_paises = extract_country_names()\n",
    "        tabela_paises = trata_paises(tabela_paises)\n",
    "        salva_bd(tabela_paises,\"country_names\")\n",
    "        print(\"> Tabela - Nomes de países\")\n",
    "except:\n",
    "        alerta(nivel = 3, \n",
    "               base = \"country_names\", \n",
    "               etapa = \"EXTRACAO\")\n",
    "\n",
    "print(\"PROCESSO FINALIZADO COM SUCESSO\")\n"
   ]
  },
  {
   "cell_type": "code",
   "execution_count": null,
   "metadata": {},
   "outputs": [],
   "source": []
  }
 ],
 "metadata": {
  "kernelspec": {
   "display_name": "Python 3",
   "language": "python",
   "name": "python3"
  },
  "language_info": {
   "codemirror_mode": {
    "name": "ipython",
    "version": 3
   },
   "file_extension": ".py",
   "mimetype": "text/x-python",
   "name": "python",
   "nbconvert_exporter": "python",
   "pygments_lexer": "ipython3",
   "version": "3.11.8"
  }
 },
 "nbformat": 4,
 "nbformat_minor": 2
}
