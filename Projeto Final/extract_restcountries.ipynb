{
 "cells": [
  {
   "cell_type": "markdown",
   "metadata": {},
   "source": [
    "# Desafio complementar"
   ]
  },
  {
   "cell_type": "code",
   "execution_count": 115,
   "metadata": {},
   "outputs": [],
   "source": [
    "import pandas as pd \n",
    "import requests\n",
    "import numpy as np\n",
    "from plyer import notification\n",
    "from datetime import datetime"
   ]
  },
  {
   "cell_type": "markdown",
   "metadata": {},
   "source": [
    "## 00. Funções auxiliares"
   ]
  },
  {
   "cell_type": "code",
   "execution_count": 64,
   "metadata": {},
   "outputs": [],
   "source": [
    "def alerta(nivel, base, etapa):\n",
    "    \"\"\"\n",
    "    Retorna um alerta no desktop\n",
    "\n",
    "    :param nivel: Nível do alerta\n",
    "    :param base: Base onde ocorreu a falha\n",
    "    :param etapa: Etapa onde ocorreu a falha\n",
    "\n",
    "    :type nivel: int\n",
    "    :type base: str\n",
    "    :type etapa: str\n",
    "    \"\"\"\n",
    "\n",
    "    niveis = {1:\"Baixo\",\n",
    "          2: \"Médio\",\n",
    "          3: \"Alto\"}\n",
    "\n",
    "    if nivel not in niveis:\n",
    "        raise ValueError(f\"Nível inválido. Deve ser 1, 2 ou 3\")\n",
    "\n",
    "\n",
    "    return notification.notify(title=f\"ATENÇÃO: Alerta {niveis[nivel]}\",\n",
    "                               message=f\"Falha no carregamento da base {base} na etapa {etapa}\\n{datetime.now()}\")\n",
    "\n",
    "def get_req(url, base=\"base\"):\n",
    "    \"\"\"\n",
    "    Retorna o JSON de uma requisição a uma API. Em caso de resposta diferente de 200, retorna um alerta.\n",
    "\n",
    "    :param url: URL da API\n",
    "    :param base: Nome da base que será criada\n",
    "\n",
    "    :type url: str\n",
    "    :type base: str\n",
    "    \"\"\"\n",
    "    # Trata respostas diferentes da esperada (200)\n",
    "    req = requests.get(url)\n",
    "    if req.status_code != 200:\n",
    "        return alerta(1, base, \"Carregamento\")\n",
    "    \n",
    "    else:\n",
    "        return req.json()\n",
    "\n"
   ]
  },
  {
   "cell_type": "markdown",
   "metadata": {},
   "source": [
    "## 01. Premissas para extração\n",
    "Para esta atividade, utilizaremos a API REST Countries\n",
    "\n",
    "Vamos extrair 3 tabelas a partir da requisição"
   ]
  },
  {
   "cell_type": "code",
   "execution_count": 71,
   "metadata": {},
   "outputs": [],
   "source": [
    "url = \"https://restcountries.com/v3.1/all\"\n",
    "req = get_req(url)"
   ]
  },
  {
   "cell_type": "code",
   "execution_count": 88,
   "metadata": {},
   "outputs": [
    {
     "name": "stdout",
     "output_type": "stream",
     "text": [
      "Entradas na tabela: 250\n",
      "Dados disponíveis: ['name', 'tld', 'cca2', 'ccn3', 'cca3', 'cioc', 'independent', 'status', 'unMember', 'currencies', 'idd', 'capital', 'altSpellings', 'region', 'subregion', 'languages', 'translations', 'latlng', 'landlocked', 'area', 'demonyms', 'flag', 'maps', 'population', 'gini', 'fifa', 'car', 'timezones', 'continents', 'flags', 'coatOfArms', 'startOfWeek', 'capitalInfo', 'postalCode']\n"
     ]
    }
   ],
   "source": [
    "print(f\"Entradas na tabela: {len(req)}\")\n",
    "\n",
    "dados_disponiveis = list(req[0].keys())\n",
    "print(f\"Dados disponíveis: {dados_disponiveis}\")\n",
    "\n"
   ]
  },
  {
   "cell_type": "code",
   "execution_count": 116,
   "metadata": {},
   "outputs": [],
   "source": [
    "names = [i[\"name\"][\"common\"] for i in req]\n",
    "regions = [i[\"region\"] for i in req]\n",
    "#Tratamos o caso de não existir a chave \"subregion\" no JSON da requisição\n",
    "subregions = [i[\"subregion\"] if \"subregion\" in i else np.nan for i in req]\n"
   ]
  },
  {
   "cell_type": "code",
   "execution_count": 135,
   "metadata": {},
   "outputs": [
    {
     "data": {
      "text/html": [
       "<div>\n",
       "<style scoped>\n",
       "    .dataframe tbody tr th:only-of-type {\n",
       "        vertical-align: middle;\n",
       "    }\n",
       "\n",
       "    .dataframe tbody tr th {\n",
       "        vertical-align: top;\n",
       "    }\n",
       "\n",
       "    .dataframe thead th {\n",
       "        text-align: right;\n",
       "    }\n",
       "</style>\n",
       "<table border=\"1\" class=\"dataframe\">\n",
       "  <thead>\n",
       "    <tr style=\"text-align: right;\">\n",
       "      <th></th>\n",
       "      <th>name</th>\n",
       "      <th>region</th>\n",
       "      <th>subregion</th>\n",
       "    </tr>\n",
       "  </thead>\n",
       "  <tbody>\n",
       "    <tr>\n",
       "      <th>102</th>\n",
       "      <td>French Southern and Antarctic Lands</td>\n",
       "      <td>Antarctic</td>\n",
       "      <td>NaN</td>\n",
       "    </tr>\n",
       "    <tr>\n",
       "      <th>159</th>\n",
       "      <td>Bouvet Island</td>\n",
       "      <td>Antarctic</td>\n",
       "      <td>NaN</td>\n",
       "    </tr>\n",
       "    <tr>\n",
       "      <th>185</th>\n",
       "      <td>South Georgia</td>\n",
       "      <td>Antarctic</td>\n",
       "      <td>NaN</td>\n",
       "    </tr>\n",
       "    <tr>\n",
       "      <th>194</th>\n",
       "      <td>Antarctica</td>\n",
       "      <td>Antarctic</td>\n",
       "      <td>NaN</td>\n",
       "    </tr>\n",
       "    <tr>\n",
       "      <th>218</th>\n",
       "      <td>Heard Island and McDonald Islands</td>\n",
       "      <td>Antarctic</td>\n",
       "      <td>NaN</td>\n",
       "    </tr>\n",
       "  </tbody>\n",
       "</table>\n",
       "</div>"
      ],
      "text/plain": [
       "                                    name     region subregion\n",
       "102  French Southern and Antarctic Lands  Antarctic       NaN\n",
       "159                        Bouvet Island  Antarctic       NaN\n",
       "185                        South Georgia  Antarctic       NaN\n",
       "194                           Antarctica  Antarctic       NaN\n",
       "218    Heard Island and McDonald Islands  Antarctic       NaN"
      ]
     },
     "execution_count": 135,
     "metadata": {},
     "output_type": "execute_result"
    }
   ],
   "source": [
    "df = pd.DataFrame({\"name\": names,\n",
    "                   \"region\": regions,\n",
    "                   \"subregion\": subregions})\n",
    "rows_with_nan = df.isna().any(axis=1)\n",
    "df[rows_with_nan]"
   ]
  },
  {
   "cell_type": "code",
   "execution_count": 111,
   "metadata": {},
   "outputs": [
    {
     "name": "stdout",
     "output_type": "stream",
     "text": [
      "1: Southern Europe\n",
      "2: Eastern Africa\n",
      "3: Western Africa\n",
      "4: North America\n",
      "5: Southern Europe\n",
      "6: Polynesia\n",
      "7: Eastern Africa\n",
      "8: Eastern Africa\n",
      "9: South America\n",
      "10: Central Asia\n",
      "11: Southeast Europe\n",
      "12: Southeast Europe\n",
      "13: Northern Europe\n",
      "14: Northern Africa\n",
      "15: South-Eastern Asia\n",
      "16: Middle Africa\n",
      "17: Western Asia\n",
      "18: Eastern Africa\n",
      "19: Polynesia\n",
      "20: Western Africa\n",
      "21: Western Africa\n",
      "22: South-Eastern Asia\n",
      "23: Central America\n",
      "24: Southern Asia\n",
      "25: Caribbean\n",
      "26: Northern Europe\n",
      "27: Central America\n",
      "28: Western Asia\n",
      "29: Middle Africa\n",
      "30: Central Asia\n",
      "31: Central Europe\n",
      "32: Micronesia\n",
      "33: Western Africa\n",
      "34: Northern Europe\n",
      "35: Western Asia\n",
      "36: Northern Europe\n",
      "37: Caribbean\n",
      "38: Central Asia\n",
      "39: Eastern Africa\n",
      "40: Northern Africa\n",
      "41: Northern Africa\n",
      "42: Caribbean\n",
      "43: Australia and New Zealand\n",
      "44: Australia and New Zealand\n",
      "45: South-Eastern Asia\n",
      "46: South America\n",
      "47: Polynesia\n",
      "48: Southeast Europe\n",
      "49: Northern Europe\n",
      "50: Eastern Europe\n",
      "51: Central America\n",
      "52: Middle Africa\n",
      "53: Central Europe\n",
      "54: Caribbean\n",
      "55: Southern Europe\n",
      "56: Western Africa\n",
      "57: Caribbean\n",
      "58: Western Europe\n",
      "59: Southern Asia\n",
      "60: South America\n",
      "61: Caribbean\n",
      "62: North America\n",
      "63: North America\n",
      "64: Middle Africa\n",
      "65: Central Europe\n",
      "66: Eastern Africa\n",
      "67: Southern Asia\n",
      "68: Polynesia\n",
      "69: Melanesia\n",
      "70: Eastern Asia\n",
      "71: South America\n",
      "72: Caribbean\n",
      "73: Northern Africa\n",
      "74: Southern Asia\n",
      "75: South-Eastern Asia\n",
      "76: Caribbean\n",
      "77: Southern Europe\n",
      "78: Northern Europe\n",
      "79: Northern Europe\n",
      "80: South America\n",
      "81: South America\n",
      "82: Southern Africa\n",
      "83: Caribbean\n",
      "84: Melanesia\n",
      "85: Northern Europe\n",
      "86: Northern Europe\n",
      "87: Eastern Africa\n",
      "88: Western Asia\n",
      "89: North America\n",
      "90: South America\n",
      "91: Australia and New Zealand\n",
      "92: Caribbean\n",
      "93: Australia and New Zealand\n",
      "94: Central America\n",
      "95: South America\n",
      "96: Eastern Asia\n",
      "97: Polynesia\n",
      "98: Caribbean\n",
      "99: Middle Africa\n",
      "100: Caribbean\n",
      "101: South America\n",
      "102: Southern Asia\n"
     ]
    },
    {
     "ename": "KeyError",
     "evalue": "'subregion'",
     "output_type": "error",
     "traceback": [
      "\u001b[1;31m---------------------------------------------------------------------------\u001b[0m",
      "\u001b[1;31mKeyError\u001b[0m                                  Traceback (most recent call last)",
      "\u001b[1;32m<ipython-input-111-976132c2ab46>\u001b[0m in \u001b[0;36m<module>\u001b[1;34m()\u001b[0m\n\u001b[0;32m      1\u001b[0m \u001b[0mj\u001b[0m\u001b[1;33m=\u001b[0m\u001b[1;36m1\u001b[0m\u001b[1;33m\u001b[0m\u001b[0m\n\u001b[0;32m      2\u001b[0m \u001b[1;32mfor\u001b[0m \u001b[0mi\u001b[0m \u001b[1;32min\u001b[0m \u001b[0mreq\u001b[0m\u001b[1;33m:\u001b[0m\u001b[1;33m\u001b[0m\u001b[0m\n\u001b[1;32m----> 3\u001b[1;33m     \u001b[0mprint\u001b[0m \u001b[1;33m(\u001b[0m\u001b[1;34mf'{j}: {i[\"subregion\"]}'\u001b[0m\u001b[1;33m)\u001b[0m\u001b[1;33m\u001b[0m\u001b[0m\n\u001b[0m\u001b[0;32m      4\u001b[0m     \u001b[0mj\u001b[0m \u001b[1;33m+=\u001b[0m \u001b[1;36m1\u001b[0m\u001b[1;33m\u001b[0m\u001b[0m\n",
      "\u001b[1;31mKeyError\u001b[0m: 'subregion'"
     ]
    }
   ],
   "source": [
    "j=1\n",
    "for i in req:\n",
    "    print (f'{j}: {i[\"subregion\"]}')\n",
    "    j += 1"
   ]
  }
 ],
 "metadata": {
  "kernelspec": {
   "display_name": "Python 3",
   "language": "python",
   "name": "python3"
  },
  "language_info": {
   "codemirror_mode": {
    "name": "ipython",
    "version": 3
   },
   "file_extension": ".py",
   "mimetype": "text/x-python",
   "name": "python",
   "nbconvert_exporter": "python",
   "pygments_lexer": "ipython3",
   "version": "3.7.0"
  }
 },
 "nbformat": 4,
 "nbformat_minor": 2
}
